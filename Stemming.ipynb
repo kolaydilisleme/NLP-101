{
 "cells": [
  {
   "cell_type": "markdown",
   "metadata": {},
   "source": [
    "_Lütfen kaynak belirtmeden bu içeriği tamamen veya kısmen kopyalamayın. Görüş, öneri, şikayet ve işbirliği gibi konular için **kolaydilisleme@gmail.com**_"
   ]
  },
  {
   "cell_type": "markdown",
   "metadata": {},
   "source": [
    "##  Stemming\n",
    "\n",
    "Stemming, ekleri çıkararak ve bir kelimeyi bazı temel formlara indirgeyerek, o kelimenin tüm farklı varyantlarının aynı form ile temsil edilebilmesi sürecine denir (örneğin, \"car\" ve \"cars\" her ikisi de \"car\" olarak indirgenir). Sabit bir dizi kural ile kelimenin sonundaki ekler kaldırılır, bu sayade kelimenin köküne ulaşılmış olur. Stemming oldukça basit bir teknik olduğundan dolayı her zaman dilbilgisel açıdan doğru sonuçlar vermeyebilir.\n",
    "\n",
    "NLTK kütüphanesinin içerisindeki stemmer'lar maalesef ki Türkçe için iyi çalışmıyor. Bu bağlamda Türkçe desteği olan farklı bir kütüphane kullancağız. Burada Türkçe desteği de bulunan ve oldukça popüler bir araç olan [SnowballStemmer](https://github.com/snowballstem/snowball) algoritmasını kullanabiliriz.\n",
    "\n",
    "Ayrıca Türkçe NLP çalışmalarında çokça tercih edilen [Zemberek](https://github.com/ahmetaa/zemberek-nlp) kütüphanesi de kullanılabilir veya tamamen bu iş üzerine kurulmuş olan [TurkishStemmer](https://github.com/otuncelli/turkish-stemmer-python) kütüphanesi kullanılabilir."
   ]
  },
  {
   "cell_type": "markdown",
   "metadata": {},
   "source": [
    "### Neden Stemming Yapılır?\n",
    "\n",
    "- **Standarlaştırma:** Stemming, farklı kelime formlarını (örneğin, \"run\", \"running\", \"runner\") temel köklerine indirger. Bu, kelime çeşitliliğini azaltarak ve aynı köke sahip kelimeleri standart bir forma getirerek veri setindeki kelime sayısını düşürür. \n",
    "\n",
    "- **Optimizasyon:** Arama motorları ve sorgulama sistemleri, kullanıcıların girdiği kelimelerin köklerini kullanarak daha geniş bir sonuç yelpazesi sunabilir. Böylece, “fish” kelimesini arayan bir kullanıcı “fishing” veya “fished” gibi terimleri içeren sonuçları da görebilir.\n",
    "\n",
    "- **Hafıza ve Hız:** Stemming, kelime indekslerinin boyutunu azaltarak hem hafıza kullanımını hem de işleme hızını iyileştirir."
   ]
  },
  {
   "cell_type": "markdown",
   "metadata": {},
   "source": [
    "### Snowball kütüphanesi ile stemming"
   ]
  },
  {
   "cell_type": "code",
   "execution_count": 1,
   "metadata": {},
   "outputs": [],
   "source": [
    "#!pip install snowballstemmer"
   ]
  },
  {
   "cell_type": "code",
   "execution_count": 2,
   "metadata": {
    "metadata": {}
   },
   "outputs": [
    {
     "name": "stdout",
     "output_type": "stream",
     "text": [
      "koşuyorum -> koşuyor\n",
      "koşacak -> koşacak\n",
      "koştu -> koş\n"
     ]
    }
   ],
   "source": [
    "from snowballstemmer import TurkishStemmer\n",
    "\n",
    "stemmer = TurkishStemmer()\n",
    "\n",
    "kelimeler = ['koşuyorum', 'koşacak', 'koştu']\n",
    "for kelime in kelimeler:\n",
    "    print(f\"{kelime} -> {stemmer.stemWord(kelime)}\")"
   ]
  },
  {
   "cell_type": "markdown",
   "metadata": {},
   "source": [
    "### TurkishStemmer kütüphanesi ile stemming"
   ]
  },
  {
   "cell_type": "code",
   "execution_count": 3,
   "metadata": {},
   "outputs": [],
   "source": [
    "#!pip install TurkishStemmer"
   ]
  },
  {
   "cell_type": "code",
   "execution_count": 4,
   "metadata": {
    "metadata": {}
   },
   "outputs": [
    {
     "name": "stdout",
     "output_type": "stream",
     "text": [
      "koşuyorum -> koşuyor\n",
      "koşacak -> koşacak\n",
      "koştu -> koşt\n"
     ]
    }
   ],
   "source": [
    "from TurkishStemmer import TurkishStemmer\n",
    "\n",
    "stemmer = TurkishStemmer()\n",
    "\n",
    "kelimeler = ['koşuyorum', 'koşacak', 'koştu']\n",
    "for kelime in kelimeler:\n",
    "    print(f\"{kelime} -> {stemmer.stem(kelime)}\")"
   ]
  },
  {
   "cell_type": "code",
   "execution_count": 5,
   "metadata": {
    "metadata": {}
   },
   "outputs": [
    {
     "name": "stdout",
     "output_type": "stream",
     "text": [
      "['run', 'run', 'ran']\n"
     ]
    }
   ],
   "source": [
    "# İngilizce örnek\n",
    "import nltk\n",
    "from nltk.stem import PorterStemmer\n",
    "from nltk.tokenize import word_tokenize\n",
    "\n",
    "english_text = \"running runs ran\"\n",
    "english_tokens = word_tokenize(english_text)\n",
    "\n",
    "stemmer = PorterStemmer()\n",
    "stemmed_words = [stemmer.stem(word) for word in english_tokens]\n",
    "print(stemmed_words)"
   ]
  },
  {
   "cell_type": "markdown",
   "metadata": {},
   "source": [
    "### Ön işleme sonrası stemming işlemi"
   ]
  },
  {
   "cell_type": "code",
   "execution_count": 6,
   "metadata": {},
   "outputs": [
    {
     "name": "stdout",
     "output_type": "stream",
     "text": [
      "Ön işleme sonucu metin: ['sokrates', 'antik', 'çağın', 'ünlü', 'filozoflarından', 'biridir', 'ünlü', 'sözlerinden', 'şöyledir', \"'bilgiğim\", 'bir', 'var', 'hiçbir', 'bilmediğimdir']\n",
      "Stemming ile kelime kökleri: ['sokrates', 'antik', 'çak', 'ünlü', 'filozof', 'bir', 'ünlü', 'söz', 'şö', \"'bilgik\", 'bir', 'var', 'hiçbir', 'bilmedik']\n"
     ]
    }
   ],
   "source": [
    "from nltk.corpus import stopwords\n",
    "from string import punctuation\n",
    "from nltk.tokenize import word_tokenize\n",
    "from snowballstemmer import TurkishStemmer\n",
    "\n",
    "def preprocess_text(text):\n",
    "    mystopwords = set(stopwords.words(\"turkish\"))\n",
    "    \n",
    "    def remove_stops_digits(tokens):\n",
    "        return [token.lower() for token in tokens if token.lower() not in mystopwords and not token.isdigit() and token not in punctuation]\n",
    "    \n",
    "    return remove_stops_digits(word_tokenize(text))\n",
    "\n",
    "def stem_words(words):\n",
    "    stemmer = TurkishStemmer()\n",
    "    return [stemmer.stemWord(word) for word in words]\n",
    "\n",
    "text = \"Sokrates, antik çağın ünlü filozoflarından biridir. En ünlü sözlerinden biri şöyledir: 'Bilgiğim bir şey var, o da hiçbir şey bilmediğimdir.'\"\n",
    "processed_text = preprocess_text(text)\n",
    "stemmed_words = stem_words(processed_text)\n",
    "\n",
    "print(\"Ön işleme sonucu metin:\", processed_text)\n",
    "print(\"Stemming ile kelime kökleri:\", stemmed_words)\n"
   ]
  },
  {
   "cell_type": "code",
   "execution_count": 7,
   "metadata": {},
   "outputs": [
    {
     "name": "stdout",
     "output_type": "stream",
     "text": [
      "Processed text: ['socrates', 'one', 'famous', 'philosophers', 'ancient', 'era', 'one', 'famous', 'quotes', \"'the\", 'thing', 'know', 'know', 'nothing']\n",
      "Stemmed words: ['socrat', 'one', 'famous', 'philosoph', 'ancient', 'era', 'one', 'famous', 'quot', 'the', 'thing', 'know', 'know', 'noth']\n"
     ]
    }
   ],
   "source": [
    "from nltk.corpus import stopwords\n",
    "from string import punctuation\n",
    "from nltk.tokenize import word_tokenize\n",
    "from nltk.stem import SnowballStemmer\n",
    "\n",
    "def preprocess_text(text):\n",
    "    mystopwords = set(stopwords.words(\"english\"))\n",
    "    \n",
    "    def remove_stops_digits(tokens):\n",
    "        return [token.lower() for token in tokens if token.lower() not in mystopwords and not token.isdigit() and token not in punctuation]\n",
    "    \n",
    "    return remove_stops_digits(word_tokenize(text))\n",
    "\n",
    "def stem_words(words):\n",
    "    stemmer = SnowballStemmer(\"english\")\n",
    "    return [stemmer.stem(word) for word in words]\n",
    "\n",
    "text = \"Socrates is one of the famous philosophers of the ancient era. One of his most famous quotes is: 'The only thing I know is that I know nothing.'\"\n",
    "processed_text = preprocess_text(text)\n",
    "stemmed_words = stem_words(processed_text)\n",
    "\n",
    "print(\"Processed text:\", processed_text)\n",
    "print(\"Stemmed words:\", stemmed_words)"
   ]
  },
  {
   "cell_type": "markdown",
   "metadata": {},
   "source": [
    "### Kaynaklar\n",
    "- Natural Language Processing with Python (O’Reilly) - Kitap\n",
    "- Practical Natural Language Processing (O’Reilly) - Kitap"
   ]
  },
  {
   "cell_type": "markdown",
   "metadata": {},
   "source": [
    "_Lütfen kaynak belirtmeden bu içeriği tamamen veya kısmen kopyalamayın. Görüş, öneri, şikayet ve işbirliği gibi konular için **kolaydilisleme@gmail.com**_"
   ]
  }
 ],
 "metadata": {
  "kernelspec": {
   "display_name": "Python 3",
   "language": "python",
   "name": "python3"
  },
  "language_info": {
   "codemirror_mode": {
    "name": "ipython",
    "version": 3
   },
   "file_extension": ".py",
   "mimetype": "text/x-python",
   "name": "python",
   "nbconvert_exporter": "python",
   "pygments_lexer": "ipython3",
   "version": "3.10.12"
  }
 },
 "nbformat": 4,
 "nbformat_minor": 2
}
